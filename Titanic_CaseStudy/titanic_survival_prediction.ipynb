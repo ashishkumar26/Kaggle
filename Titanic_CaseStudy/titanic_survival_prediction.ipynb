{
  "nbformat": 4,
  "nbformat_minor": 0,
  "metadata": {
    "colab": {
      "name": "titanic-survival-prediction.ipynb",
      "provenance": [],
      "collapsed_sections": [],
      "include_colab_link": true
    },
    "kernelspec": {
      "name": "python3",
      "display_name": "Python 3"
    }
  },
  "cells": [
    {
      "cell_type": "markdown",
      "metadata": {
        "id": "view-in-github",
        "colab_type": "text"
      },
      "source": [
        "<a href=\"https://colab.research.google.com/github/ashishkumar26/Kaggle/blob/master/Titanic_CaseStudy/titanic_survival_prediction.ipynb\" target=\"_parent\"><img src=\"https://colab.research.google.com/assets/colab-badge.svg\" alt=\"Open In Colab\"/></a>"
      ]
    },
    {
      "cell_type": "markdown",
      "metadata": {
        "id": "i_cfdJvwxvES",
        "colab_type": "text"
      },
      "source": [
        "                       \n",
        "##                   **Kernel Goals**\n",
        "\n",
        "\n",
        "There are two primary goals of this kernel.\n",
        "To do a statistical and exploratory data analysis of how some group of people was survived more than others through visualization.\n",
        "And to create machine learning models that can predict the chances of passengers survival."
      ]
    },
    {
      "cell_type": "markdown",
      "metadata": {
        "id": "r3W6nhhmyN4O",
        "colab_type": "text"
      },
      "source": [
        "# <font color='blue'>1: Importing Necessary Libraries and datasets</font>\n",
        "***\n",
        "<a id=\"import_libraries**\"></a>\n",
        "### 1.1. Libraries"
      ]
    },
    {
      "cell_type": "code",
      "metadata": {
        "id": "LPpGlJhryTL1",
        "colab_type": "code",
        "colab": {}
      },
      "source": [
        "# Import necessary modules/libraries for data analysis and data visualization. \n",
        "# Data analysis modules\n",
        "import pandas as pd\n",
        "import numpy as np\n",
        "\n",
        "# Visualization libraries\n",
        "from matplotlib import pyplot as plt\n",
        "import seaborn as sns\n",
        "%matplotlib inline\n",
        "\n",
        "## Machine learning libraries\n",
        "from sklearn.tree import DecisionTreeClassifier, DecisionTreeRegressor\n",
        "from sklearn.model_selection import cross_val_score,GridSearchCV\n",
        "\n",
        "\n",
        "## Ignore warning\n",
        "# import warnings\n",
        "# warnings.filterwarnings('ignore')\n"
      ],
      "execution_count": 0,
      "outputs": []
    },
    {
      "cell_type": "markdown",
      "metadata": {
        "id": "CGmCaAAIygrp",
        "colab_type": "text"
      },
      "source": [
        "\n",
        "***\n",
        "<a id=\"load_data\"></a>\n",
        "### 1.2. Load datasets\n"
      ]
    },
    {
      "cell_type": "code",
      "metadata": {
        "id": "IdJMV0GDzR4d",
        "colab_type": "code",
        "colab": {}
      },
      "source": [
        "## Importing the training dataset\n",
        "train =pd.read_csv(\"https://raw.githubusercontent.com/ashishkumar26/Datasets/master/CaseStudy/titanic_train.csv\")\n",
        "test = pd.read_csv(\"https://raw.githubusercontent.com/ashishkumar26/Datasets/master/CaseStudy/titanic_test.csv\")"
      ],
      "execution_count": 0,
      "outputs": []
    },
    {
      "cell_type": "markdown",
      "metadata": {
        "id": "AxzYFQSs3D4_",
        "colab_type": "text"
      },
      "source": [
        "### 1.3. Analyze the Dataset\n",
        "<a id=\"analyzethedataset\"></a>\n",
        "***"
      ]
    },
    {
      "cell_type": "code",
      "metadata": {
        "id": "AeiVO90X29Lt",
        "colab_type": "code",
        "outputId": "1b72a42f-e46c-4768-cce1-5f7be305760d",
        "colab": {
          "base_uri": "https://localhost:8080/",
          "height": 204
        }
      },
      "source": [
        "# Look for the top 5 rows\n",
        "train.head()"
      ],
      "execution_count": 0,
      "outputs": [
        {
          "output_type": "execute_result",
          "data": {
            "text/html": [
              "<div>\n",
              "<style scoped>\n",
              "    .dataframe tbody tr th:only-of-type {\n",
              "        vertical-align: middle;\n",
              "    }\n",
              "\n",
              "    .dataframe tbody tr th {\n",
              "        vertical-align: top;\n",
              "    }\n",
              "\n",
              "    .dataframe thead th {\n",
              "        text-align: right;\n",
              "    }\n",
              "</style>\n",
              "<table border=\"1\" class=\"dataframe\">\n",
              "  <thead>\n",
              "    <tr style=\"text-align: right;\">\n",
              "      <th></th>\n",
              "      <th>PassengerId</th>\n",
              "      <th>Survived</th>\n",
              "      <th>Pclass</th>\n",
              "      <th>Name</th>\n",
              "      <th>Sex</th>\n",
              "      <th>Age</th>\n",
              "      <th>SibSp</th>\n",
              "      <th>Parch</th>\n",
              "      <th>Ticket</th>\n",
              "      <th>Fare</th>\n",
              "      <th>Cabin</th>\n",
              "      <th>Embarked</th>\n",
              "    </tr>\n",
              "  </thead>\n",
              "  <tbody>\n",
              "    <tr>\n",
              "      <th>0</th>\n",
              "      <td>1</td>\n",
              "      <td>0</td>\n",
              "      <td>3</td>\n",
              "      <td>Braund, Mr. Owen Harris</td>\n",
              "      <td>male</td>\n",
              "      <td>22.0</td>\n",
              "      <td>1</td>\n",
              "      <td>0</td>\n",
              "      <td>A/5 21171</td>\n",
              "      <td>7.2500</td>\n",
              "      <td>NaN</td>\n",
              "      <td>S</td>\n",
              "    </tr>\n",
              "    <tr>\n",
              "      <th>1</th>\n",
              "      <td>2</td>\n",
              "      <td>1</td>\n",
              "      <td>1</td>\n",
              "      <td>Cumings, Mrs. John Bradley (Florence Briggs Th...</td>\n",
              "      <td>female</td>\n",
              "      <td>38.0</td>\n",
              "      <td>1</td>\n",
              "      <td>0</td>\n",
              "      <td>PC 17599</td>\n",
              "      <td>71.2833</td>\n",
              "      <td>C85</td>\n",
              "      <td>C</td>\n",
              "    </tr>\n",
              "    <tr>\n",
              "      <th>2</th>\n",
              "      <td>3</td>\n",
              "      <td>1</td>\n",
              "      <td>3</td>\n",
              "      <td>Heikkinen, Miss. Laina</td>\n",
              "      <td>female</td>\n",
              "      <td>26.0</td>\n",
              "      <td>0</td>\n",
              "      <td>0</td>\n",
              "      <td>STON/O2. 3101282</td>\n",
              "      <td>7.9250</td>\n",
              "      <td>NaN</td>\n",
              "      <td>S</td>\n",
              "    </tr>\n",
              "    <tr>\n",
              "      <th>3</th>\n",
              "      <td>4</td>\n",
              "      <td>1</td>\n",
              "      <td>1</td>\n",
              "      <td>Futrelle, Mrs. Jacques Heath (Lily May Peel)</td>\n",
              "      <td>female</td>\n",
              "      <td>35.0</td>\n",
              "      <td>1</td>\n",
              "      <td>0</td>\n",
              "      <td>113803</td>\n",
              "      <td>53.1000</td>\n",
              "      <td>C123</td>\n",
              "      <td>S</td>\n",
              "    </tr>\n",
              "    <tr>\n",
              "      <th>4</th>\n",
              "      <td>5</td>\n",
              "      <td>0</td>\n",
              "      <td>3</td>\n",
              "      <td>Allen, Mr. William Henry</td>\n",
              "      <td>male</td>\n",
              "      <td>35.0</td>\n",
              "      <td>0</td>\n",
              "      <td>0</td>\n",
              "      <td>373450</td>\n",
              "      <td>8.0500</td>\n",
              "      <td>NaN</td>\n",
              "      <td>S</td>\n",
              "    </tr>\n",
              "  </tbody>\n",
              "</table>\n",
              "</div>"
            ],
            "text/plain": [
              "   PassengerId  Survived  Pclass  ...     Fare Cabin  Embarked\n",
              "0            1         0       3  ...   7.2500   NaN         S\n",
              "1            2         1       1  ...  71.2833   C85         C\n",
              "2            3         1       3  ...   7.9250   NaN         S\n",
              "3            4         1       1  ...  53.1000  C123         S\n",
              "4            5         0       3  ...   8.0500   NaN         S\n",
              "\n",
              "[5 rows x 12 columns]"
            ]
          },
          "metadata": {
            "tags": []
          },
          "execution_count": 57
        }
      ]
    },
    {
      "cell_type": "code",
      "metadata": {
        "id": "2pr8a1XB3O6u",
        "colab_type": "code",
        "outputId": "14137c9a-3097-40bd-dd2c-30e32736536f",
        "colab": {
          "base_uri": "https://localhost:8080/",
          "height": 297
        }
      },
      "source": [
        "# Describe the dataset\n",
        "train.describe()\n"
      ],
      "execution_count": 0,
      "outputs": [
        {
          "output_type": "execute_result",
          "data": {
            "text/html": [
              "<div>\n",
              "<style scoped>\n",
              "    .dataframe tbody tr th:only-of-type {\n",
              "        vertical-align: middle;\n",
              "    }\n",
              "\n",
              "    .dataframe tbody tr th {\n",
              "        vertical-align: top;\n",
              "    }\n",
              "\n",
              "    .dataframe thead th {\n",
              "        text-align: right;\n",
              "    }\n",
              "</style>\n",
              "<table border=\"1\" class=\"dataframe\">\n",
              "  <thead>\n",
              "    <tr style=\"text-align: right;\">\n",
              "      <th></th>\n",
              "      <th>PassengerId</th>\n",
              "      <th>Survived</th>\n",
              "      <th>Pclass</th>\n",
              "      <th>Age</th>\n",
              "      <th>SibSp</th>\n",
              "      <th>Parch</th>\n",
              "      <th>Fare</th>\n",
              "    </tr>\n",
              "  </thead>\n",
              "  <tbody>\n",
              "    <tr>\n",
              "      <th>count</th>\n",
              "      <td>891.000000</td>\n",
              "      <td>891.000000</td>\n",
              "      <td>891.000000</td>\n",
              "      <td>714.000000</td>\n",
              "      <td>891.000000</td>\n",
              "      <td>891.000000</td>\n",
              "      <td>891.000000</td>\n",
              "    </tr>\n",
              "    <tr>\n",
              "      <th>mean</th>\n",
              "      <td>446.000000</td>\n",
              "      <td>0.383838</td>\n",
              "      <td>2.308642</td>\n",
              "      <td>29.699118</td>\n",
              "      <td>0.523008</td>\n",
              "      <td>0.381594</td>\n",
              "      <td>32.204208</td>\n",
              "    </tr>\n",
              "    <tr>\n",
              "      <th>std</th>\n",
              "      <td>257.353842</td>\n",
              "      <td>0.486592</td>\n",
              "      <td>0.836071</td>\n",
              "      <td>14.526497</td>\n",
              "      <td>1.102743</td>\n",
              "      <td>0.806057</td>\n",
              "      <td>49.693429</td>\n",
              "    </tr>\n",
              "    <tr>\n",
              "      <th>min</th>\n",
              "      <td>1.000000</td>\n",
              "      <td>0.000000</td>\n",
              "      <td>1.000000</td>\n",
              "      <td>0.420000</td>\n",
              "      <td>0.000000</td>\n",
              "      <td>0.000000</td>\n",
              "      <td>0.000000</td>\n",
              "    </tr>\n",
              "    <tr>\n",
              "      <th>25%</th>\n",
              "      <td>223.500000</td>\n",
              "      <td>0.000000</td>\n",
              "      <td>2.000000</td>\n",
              "      <td>20.125000</td>\n",
              "      <td>0.000000</td>\n",
              "      <td>0.000000</td>\n",
              "      <td>7.910400</td>\n",
              "    </tr>\n",
              "    <tr>\n",
              "      <th>50%</th>\n",
              "      <td>446.000000</td>\n",
              "      <td>0.000000</td>\n",
              "      <td>3.000000</td>\n",
              "      <td>28.000000</td>\n",
              "      <td>0.000000</td>\n",
              "      <td>0.000000</td>\n",
              "      <td>14.454200</td>\n",
              "    </tr>\n",
              "    <tr>\n",
              "      <th>75%</th>\n",
              "      <td>668.500000</td>\n",
              "      <td>1.000000</td>\n",
              "      <td>3.000000</td>\n",
              "      <td>38.000000</td>\n",
              "      <td>1.000000</td>\n",
              "      <td>0.000000</td>\n",
              "      <td>31.000000</td>\n",
              "    </tr>\n",
              "    <tr>\n",
              "      <th>max</th>\n",
              "      <td>891.000000</td>\n",
              "      <td>1.000000</td>\n",
              "      <td>3.000000</td>\n",
              "      <td>80.000000</td>\n",
              "      <td>8.000000</td>\n",
              "      <td>6.000000</td>\n",
              "      <td>512.329200</td>\n",
              "    </tr>\n",
              "  </tbody>\n",
              "</table>\n",
              "</div>"
            ],
            "text/plain": [
              "       PassengerId    Survived      Pclass  ...       SibSp       Parch        Fare\n",
              "count   891.000000  891.000000  891.000000  ...  891.000000  891.000000  891.000000\n",
              "mean    446.000000    0.383838    2.308642  ...    0.523008    0.381594   32.204208\n",
              "std     257.353842    0.486592    0.836071  ...    1.102743    0.806057   49.693429\n",
              "min       1.000000    0.000000    1.000000  ...    0.000000    0.000000    0.000000\n",
              "25%     223.500000    0.000000    2.000000  ...    0.000000    0.000000    7.910400\n",
              "50%     446.000000    0.000000    3.000000  ...    0.000000    0.000000   14.454200\n",
              "75%     668.500000    1.000000    3.000000  ...    1.000000    0.000000   31.000000\n",
              "max     891.000000    1.000000    3.000000  ...    8.000000    6.000000  512.329200\n",
              "\n",
              "[8 rows x 7 columns]"
            ]
          },
          "metadata": {
            "tags": []
          },
          "execution_count": 58
        }
      ]
    },
    {
      "cell_type": "code",
      "metadata": {
        "id": "61T8Fzv63f-7",
        "colab_type": "code",
        "outputId": "185987a9-5c6c-496a-84d7-cc03426b42e5",
        "colab": {
          "base_uri": "https://localhost:8080/",
          "height": 34
        }
      },
      "source": [
        "# Shape of the dataset\n",
        "train.shape # Training Dataset has 891 rows and 12 columns\n"
      ],
      "execution_count": 0,
      "outputs": [
        {
          "output_type": "execute_result",
          "data": {
            "text/plain": [
              "(891, 12)"
            ]
          },
          "metadata": {
            "tags": []
          },
          "execution_count": 60
        }
      ]
    },
    {
      "cell_type": "markdown",
      "metadata": {
        "id": "DHXB_7MR4QR6",
        "colab_type": "text"
      },
      "source": [
        "# <font color='blue'>2: Overview and Cleaning the Data</font>\n",
        "<a id=\"cleaningthedata\"></a>\n",
        "***"
      ]
    },
    {
      "cell_type": "code",
      "metadata": {
        "id": "B9wFQHl14UfP",
        "colab_type": "code",
        "colab": {}
      },
      "source": [
        "## saving passenger id in advance in order to submit later. \n",
        "passengerid = test.PassengerId\n",
        "ticket = test.Ticket\n"
      ],
      "execution_count": 0,
      "outputs": []
    },
    {
      "cell_type": "code",
      "metadata": {
        "id": "esb8CORx5Xxy",
        "colab_type": "code",
        "colab": {}
      },
      "source": [
        "## We will drop PassengerID and Ticket since it will be useless for our data. \n",
        "train.drop(['PassengerId'], axis=1, inplace=True)\n",
        "test.drop(['PassengerId'], axis=1, inplace=True)\n",
        "train.drop(['Ticket'], axis= 1, inplace=True)\n",
        "test.drop(['Ticket'], axis=1, inplace = True )"
      ],
      "execution_count": 0,
      "outputs": []
    },
    {
      "cell_type": "markdown",
      "metadata": {
        "id": "l41FuaHr6ObW",
        "colab_type": "text"
      },
      "source": [
        "This dataset is almost clean. However, before we jump into visualization and machine learning models, lets analyze and see what we have here.\n"
      ]
    },
    {
      "cell_type": "code",
      "metadata": {
        "id": "gC1DJ-lu5Xc2",
        "colab_type": "code",
        "outputId": "32124127-3437-4eae-9d7e-4435f122adc4",
        "colab": {
          "base_uri": "https://localhost:8080/",
          "height": 578
        }
      },
      "source": [
        "print ('Train '.center(50, \"*\"))\n",
        "print (train.info())\n",
        "print ('Test '.center(50, \"*\"))\n",
        "print (test.info())"
      ],
      "execution_count": 0,
      "outputs": [
        {
          "output_type": "stream",
          "text": [
            "**********************Train **********************\n",
            "<class 'pandas.core.frame.DataFrame'>\n",
            "RangeIndex: 891 entries, 0 to 890\n",
            "Data columns (total 10 columns):\n",
            "Survived    891 non-null int64\n",
            "Pclass      891 non-null int64\n",
            "Name        891 non-null object\n",
            "Sex         891 non-null object\n",
            "Age         714 non-null float64\n",
            "SibSp       891 non-null int64\n",
            "Parch       891 non-null int64\n",
            "Fare        891 non-null float64\n",
            "Cabin       204 non-null object\n",
            "Embarked    889 non-null object\n",
            "dtypes: float64(2), int64(4), object(4)\n",
            "memory usage: 69.7+ KB\n",
            "None\n",
            "**********************Test ***********************\n",
            "<class 'pandas.core.frame.DataFrame'>\n",
            "RangeIndex: 418 entries, 0 to 417\n",
            "Data columns (total 9 columns):\n",
            "Pclass      418 non-null int64\n",
            "Name        418 non-null object\n",
            "Sex         418 non-null object\n",
            "Age         332 non-null float64\n",
            "SibSp       418 non-null int64\n",
            "Parch       418 non-null int64\n",
            "Fare        417 non-null float64\n",
            "Cabin       91 non-null object\n",
            "Embarked    418 non-null object\n",
            "dtypes: float64(2), int64(3), object(4)\n",
            "memory usage: 29.5+ KB\n",
            "None\n"
          ],
          "name": "stdout"
        }
      ]
    },
    {
      "cell_type": "markdown",
      "metadata": {
        "id": "LKhPaOzi6W9M",
        "colab_type": "text"
      },
      "source": [
        "It looks like, neither the features have the same amount of entries, nor they have only numerical(int, float) values, which can only mean...\n",
        "* We may have missing values in our features.\n",
        "* We may have categorical features. \n",
        "* We may have alphanumerical or/and text features. "
      ]
    },
    {
      "cell_type": "markdown",
      "metadata": {
        "id": "C_PU0KRk6gzv",
        "colab_type": "text"
      },
      "source": [
        "### 2.1. Dealing with Missing values\n",
        "<a id=\"dealwithnullvalues\"></a>\n",
        "***"
      ]
    },
    {
      "cell_type": "code",
      "metadata": {
        "id": "AXF2MsIV6cP5",
        "colab_type": "code",
        "outputId": "b36ad7b7-d393-452b-ecde-b69426526243",
        "colab": {
          "base_uri": "https://localhost:8080/",
          "height": 408
        }
      },
      "source": [
        "print ('Train '.center(20, \"*\"))\n",
        "print (train.isnull().sum())\n",
        "print ('Test  '.center(20, \"*\"))\n",
        "print (test.isnull().sum())"
      ],
      "execution_count": 0,
      "outputs": [
        {
          "output_type": "stream",
          "text": [
            "*******Train *******\n",
            "Survived      0\n",
            "Pclass        0\n",
            "Name          0\n",
            "Sex           0\n",
            "Age         177\n",
            "SibSp         0\n",
            "Parch         0\n",
            "Fare          0\n",
            "Cabin       687\n",
            "Embarked      2\n",
            "dtype: int64\n",
            "*******Test  *******\n",
            "Pclass        0\n",
            "Name          0\n",
            "Sex           0\n",
            "Age          86\n",
            "SibSp         0\n",
            "Parch         0\n",
            "Fare          1\n",
            "Cabin       327\n",
            "Embarked      0\n",
            "dtype: int64\n"
          ],
          "name": "stdout"
        }
      ]
    },
    {
      "cell_type": "markdown",
      "metadata": {
        "id": "Z1cheZXx6-_a",
        "colab_type": "text"
      },
      "source": [
        "We see that in both train and test dataset have missing values. Let's fix them."
      ]
    },
    {
      "cell_type": "markdown",
      "metadata": {
        "id": "WdBSwMZN7Dx7",
        "colab_type": "text"
      },
      "source": [
        "### Embarked feature\n",
        "***"
      ]
    },
    {
      "cell_type": "code",
      "metadata": {
        "id": "T-LLMJHU6cBg",
        "colab_type": "code",
        "outputId": "ab93e72c-dad9-4bad-f1dd-153b9e113eb7",
        "colab": {
          "base_uri": "https://localhost:8080/",
          "height": 187
        }
      },
      "source": [
        "print (train.Embarked.value_counts(dropna=False))\n",
        "print (train.Embarked.value_counts(dropna=False, normalize=True)*100) # dropna parameter is to include null values also; normalize parameter is to get the relative value"
      ],
      "execution_count": 0,
      "outputs": [
        {
          "output_type": "stream",
          "text": [
            "S      644\n",
            "C      168\n",
            "Q       77\n",
            "NaN      2\n",
            "Name: Embarked, dtype: int64\n",
            "S      72.278339\n",
            "C      18.855219\n",
            "Q       8.641975\n",
            "NaN     0.224467\n",
            "Name: Embarked, dtype: float64\n"
          ],
          "name": "stdout"
        }
      ]
    },
    {
      "cell_type": "markdown",
      "metadata": {
        "id": "_xwi77-q8sD0",
        "colab_type": "text"
      },
      "source": [
        "It looks like there are only two null values( ~ 0.22 %) in the Embarked feature. Since this is less than 1%, we can replace these with mode value \"S.\""
      ]
    },
    {
      "cell_type": "code",
      "metadata": {
        "id": "5KtLRapG7pe-",
        "colab_type": "code",
        "outputId": "d3084e1d-ae05-402f-d209-b5ddaa396660",
        "colab": {
          "base_uri": "https://localhost:8080/",
          "height": 111
        }
      },
      "source": [
        "train[train.Embarked.isnull()]\n"
      ],
      "execution_count": 0,
      "outputs": [
        {
          "output_type": "execute_result",
          "data": {
            "text/html": [
              "<div>\n",
              "<style scoped>\n",
              "    .dataframe tbody tr th:only-of-type {\n",
              "        vertical-align: middle;\n",
              "    }\n",
              "\n",
              "    .dataframe tbody tr th {\n",
              "        vertical-align: top;\n",
              "    }\n",
              "\n",
              "    .dataframe thead th {\n",
              "        text-align: right;\n",
              "    }\n",
              "</style>\n",
              "<table border=\"1\" class=\"dataframe\">\n",
              "  <thead>\n",
              "    <tr style=\"text-align: right;\">\n",
              "      <th></th>\n",
              "      <th>Survived</th>\n",
              "      <th>Pclass</th>\n",
              "      <th>Name</th>\n",
              "      <th>Sex</th>\n",
              "      <th>Age</th>\n",
              "      <th>SibSp</th>\n",
              "      <th>Parch</th>\n",
              "      <th>Fare</th>\n",
              "      <th>Cabin</th>\n",
              "      <th>Embarked</th>\n",
              "    </tr>\n",
              "  </thead>\n",
              "  <tbody>\n",
              "    <tr>\n",
              "      <th>61</th>\n",
              "      <td>1</td>\n",
              "      <td>1</td>\n",
              "      <td>Icard, Miss. Amelie</td>\n",
              "      <td>female</td>\n",
              "      <td>38.0</td>\n",
              "      <td>0</td>\n",
              "      <td>0</td>\n",
              "      <td>80.0</td>\n",
              "      <td>B28</td>\n",
              "      <td>NaN</td>\n",
              "    </tr>\n",
              "    <tr>\n",
              "      <th>829</th>\n",
              "      <td>1</td>\n",
              "      <td>1</td>\n",
              "      <td>Stone, Mrs. George Nelson (Martha Evelyn)</td>\n",
              "      <td>female</td>\n",
              "      <td>62.0</td>\n",
              "      <td>0</td>\n",
              "      <td>0</td>\n",
              "      <td>80.0</td>\n",
              "      <td>B28</td>\n",
              "      <td>NaN</td>\n",
              "    </tr>\n",
              "  </tbody>\n",
              "</table>\n",
              "</div>"
            ],
            "text/plain": [
              "     Survived  Pclass  ... Cabin Embarked\n",
              "61          1       1  ...   B28      NaN\n",
              "829         1       1  ...   B28      NaN\n",
              "\n",
              "[2 rows x 10 columns]"
            ]
          },
          "metadata": {
            "tags": []
          },
          "execution_count": 68
        }
      ]
    },
    {
      "cell_type": "code",
      "metadata": {
        "id": "ZnxngG-59C_9",
        "colab_type": "code",
        "outputId": "90cdf713-5e27-4ebf-f641-31d89292ef14",
        "colab": {
          "base_uri": "https://localhost:8080/",
          "height": 34
        }
      },
      "source": [
        "train.Embarked.fillna(train.Embarked.mode()[0], inplace=True)\n",
        "train.Embarked.isnull().sum()\n"
      ],
      "execution_count": 0,
      "outputs": [
        {
          "output_type": "execute_result",
          "data": {
            "text/plain": [
              "0"
            ]
          },
          "metadata": {
            "tags": []
          },
          "execution_count": 69
        }
      ]
    },
    {
      "cell_type": "markdown",
      "metadata": {
        "id": "blDmcYAP9h98",
        "colab_type": "text"
      },
      "source": [
        "### Cabin Feature\n",
        "***"
      ]
    },
    {
      "cell_type": "code",
      "metadata": {
        "id": "oHE4YJ_n9FWc",
        "colab_type": "code",
        "outputId": "cd77bf54-a5c4-4506-9346-38b45d443af6",
        "colab": {
          "base_uri": "https://localhost:8080/",
          "height": 51
        }
      },
      "source": [
        "print(train.Cabin.isnull().sum()/len(train.Cabin)*100)\n",
        "print(test.Cabin.isnull().sum()/len(test.Cabin)*100)"
      ],
      "execution_count": 0,
      "outputs": [
        {
          "output_type": "stream",
          "text": [
            "77.10437710437711\n",
            "78.22966507177034\n"
          ],
          "name": "stdout"
        }
      ]
    },
    {
      "cell_type": "markdown",
      "metadata": {
        "id": "3-NGWA1y_9XW",
        "colab_type": "text"
      },
      "source": [
        "Approximately 77% of Cabin feature is missing in the training data. We have two choices, we can either get rid of the whole feature, or we can brainstorm a little and find an appropriate way to put them in use.\n",
        "* We may say passengers with cabin records had a higher socio-economic-status then others. \n",
        "* We may also say passengers with cabin records were more likely to be taken into consideration for the rescue mission. \n",
        "\n",
        "I believe it would be wise to keep the data. We will assign all the null values as **\"N\"** for now and will put cabin column to good use in the feature engineering section."
      ]
    },
    {
      "cell_type": "code",
      "metadata": {
        "id": "YMOeNxol_iDf",
        "colab_type": "code",
        "outputId": "70f59ce4-e46c-4c91-e312-acb273088a0b",
        "colab": {
          "base_uri": "https://localhost:8080/",
          "height": 187
        }
      },
      "source": [
        "train.Cabin[train.Cabin.isnull()] = 'N'\n",
        "test.Cabin[test.Cabin.isnull()] = 'N'"
      ],
      "execution_count": 0,
      "outputs": [
        {
          "output_type": "stream",
          "text": [
            "/usr/local/lib/python3.6/dist-packages/ipykernel_launcher.py:1: SettingWithCopyWarning: \n",
            "A value is trying to be set on a copy of a slice from a DataFrame\n",
            "\n",
            "See the caveats in the documentation: http://pandas.pydata.org/pandas-docs/stable/user_guide/indexing.html#returning-a-view-versus-a-copy\n",
            "  \"\"\"Entry point for launching an IPython kernel.\n",
            "/usr/local/lib/python3.6/dist-packages/ipykernel_launcher.py:2: SettingWithCopyWarning: \n",
            "A value is trying to be set on a copy of a slice from a DataFrame\n",
            "\n",
            "See the caveats in the documentation: http://pandas.pydata.org/pandas-docs/stable/user_guide/indexing.html#returning-a-view-versus-a-copy\n",
            "  \n"
          ],
          "name": "stderr"
        }
      ]
    },
    {
      "cell_type": "markdown",
      "metadata": {
        "id": "sjdaLLHLAGwe",
        "colab_type": "text"
      },
      "source": [
        "All the cabin names start with an english alphabet following by digits. We can group these cabins by the alphabets. "
      ]
    },
    {
      "cell_type": "code",
      "metadata": {
        "id": "lnQMbDa_AIJP",
        "colab_type": "code",
        "colab": {}
      },
      "source": [
        "train.Cabin = [i[0] for i in train.Cabin]\n",
        "test.Cabin = [i[0] for i in test.Cabin]"
      ],
      "execution_count": 0,
      "outputs": []
    },
    {
      "cell_type": "code",
      "metadata": {
        "id": "wCDQdkLLAMiv",
        "colab_type": "code",
        "outputId": "039c718a-5a34-48a1-ad59-2077b266ec4a",
        "colab": {
          "base_uri": "https://localhost:8080/",
          "height": 391
        }
      },
      "source": [
        "print (train.isnull().sum())\n",
        "print(''.center(15,'*'))\n",
        "print(test.isnull().sum())"
      ],
      "execution_count": 0,
      "outputs": [
        {
          "output_type": "stream",
          "text": [
            "Survived      0\n",
            "Pclass        0\n",
            "Name          0\n",
            "Sex           0\n",
            "Age         177\n",
            "SibSp         0\n",
            "Parch         0\n",
            "Fare          0\n",
            "Cabin         0\n",
            "Embarked      0\n",
            "dtype: int64\n",
            "***************\n",
            "Pclass       0\n",
            "Name         0\n",
            "Sex          0\n",
            "Age         86\n",
            "SibSp        0\n",
            "Parch        0\n",
            "Fare         1\n",
            "Cabin        0\n",
            "Embarked     0\n",
            "dtype: int64\n"
          ],
          "name": "stdout"
        }
      ]
    }
  ]
}